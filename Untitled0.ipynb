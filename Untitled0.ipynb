{
  "nbformat": 4,
  "nbformat_minor": 0,
  "metadata": {
    "colab": {
      "provenance": [],
      "authorship_tag": "ABX9TyNMBTtcIDcZP0n0wo79fjfL",
      "include_colab_link": true
    },
    "kernelspec": {
      "name": "python3",
      "display_name": "Python 3"
    },
    "language_info": {
      "name": "python"
    }
  },
  "cells": [
    {
      "cell_type": "markdown",
      "metadata": {
        "id": "view-in-github",
        "colab_type": "text"
      },
      "source": [
        "<a href=\"https://colab.research.google.com/github/prateekrana17/3D-LLM/blob/main/Untitled0.ipynb\" target=\"_parent\"><img src=\"https://colab.research.google.com/assets/colab-badge.svg\" alt=\"Open In Colab\"/></a>"
      ]
    },
    {
      "cell_type": "code",
      "execution_count": 1,
      "metadata": {
        "colab": {
          "base_uri": "https://localhost:8080/"
        },
        "id": "Gf-LKdFzT7kD",
        "outputId": "8546dfbf-d87b-40d1-ec23-ac0b9d20a1f3"
      },
      "outputs": [
        {
          "output_type": "stream",
          "name": "stdout",
          "text": [
            "Requirement already satisfied: openvino-dev[onnx,pytorch]==2022.3.0 in /usr/local/lib/python3.10/dist-packages (2022.3.0)\n",
            "Requirement already satisfied: addict>=2.4.0 in /usr/local/lib/python3.10/dist-packages (from openvino-dev[onnx,pytorch]==2022.3.0) (2.4.0)\n",
            "Requirement already satisfied: defusedxml>=0.7.1 in /usr/local/lib/python3.10/dist-packages (from openvino-dev[onnx,pytorch]==2022.3.0) (0.7.1)\n",
            "Requirement already satisfied: jstyleson>=0.0.2 in /usr/local/lib/python3.10/dist-packages (from openvino-dev[onnx,pytorch]==2022.3.0) (0.0.2)\n",
            "Requirement already satisfied: networkx<=2.8.8 in /usr/local/lib/python3.10/dist-packages (from openvino-dev[onnx,pytorch]==2022.3.0) (2.8.8)\n",
            "Requirement already satisfied: numpy<=1.23.4,>=1.16.6 in /usr/local/lib/python3.10/dist-packages (from openvino-dev[onnx,pytorch]==2022.3.0) (1.23.4)\n",
            "Requirement already satisfied: opencv-python>=4.5 in /usr/local/lib/python3.10/dist-packages (from openvino-dev[onnx,pytorch]==2022.3.0) (4.8.0.76)\n",
            "Requirement already satisfied: openvino-telemetry>=2022.1.0 in /usr/local/lib/python3.10/dist-packages (from openvino-dev[onnx,pytorch]==2022.3.0) (2024.1.0)\n",
            "Requirement already satisfied: pandas~=1.3.5 in /usr/local/lib/python3.10/dist-packages (from openvino-dev[onnx,pytorch]==2022.3.0) (1.3.5)\n",
            "Requirement already satisfied: pillow>=8.1.2 in /usr/local/lib/python3.10/dist-packages (from openvino-dev[onnx,pytorch]==2022.3.0) (9.4.0)\n",
            "Requirement already satisfied: pyyaml>=5.4.1 in /usr/local/lib/python3.10/dist-packages (from openvino-dev[onnx,pytorch]==2022.3.0) (6.0.1)\n",
            "Requirement already satisfied: requests>=2.25.1 in /usr/local/lib/python3.10/dist-packages (from openvino-dev[onnx,pytorch]==2022.3.0) (2.31.0)\n",
            "Requirement already satisfied: texttable>=1.6.3 in /usr/local/lib/python3.10/dist-packages (from openvino-dev[onnx,pytorch]==2022.3.0) (1.7.0)\n",
            "Requirement already satisfied: tqdm>=4.54.1 in /usr/local/lib/python3.10/dist-packages (from openvino-dev[onnx,pytorch]==2022.3.0) (4.66.4)\n",
            "Requirement already satisfied: openvino==2022.3.0 in /usr/local/lib/python3.10/dist-packages (from openvino-dev[onnx,pytorch]==2022.3.0) (2022.3.0)\n",
            "Requirement already satisfied: scipy>=1.8 in /usr/local/lib/python3.10/dist-packages (from openvino-dev[onnx,pytorch]==2022.3.0) (1.8.1)\n",
            "Requirement already satisfied: fastjsonschema~=2.15.1 in /usr/local/lib/python3.10/dist-packages (from openvino-dev[onnx,pytorch]==2022.3.0) (2.15.3)\n",
            "Requirement already satisfied: onnx<=1.12,>=1.8.1 in /usr/local/lib/python3.10/dist-packages (from openvino-dev[onnx,pytorch]==2022.3.0) (1.12.0)\n",
            "Requirement already satisfied: protobuf<4.0.0,>=3.18.1 in /usr/local/lib/python3.10/dist-packages (from openvino-dev[onnx,pytorch]==2022.3.0) (3.20.1)\n",
            "Requirement already satisfied: torch<=1.13.0,>=1.8.1 in /usr/local/lib/python3.10/dist-packages (from openvino-dev[onnx,pytorch]==2022.3.0) (1.13.0)\n",
            "Requirement already satisfied: torchvision<=0.14.0,>=0.9.1 in /usr/local/lib/python3.10/dist-packages (from openvino-dev[onnx,pytorch]==2022.3.0) (0.14.0)\n",
            "Requirement already satisfied: yacs>=0.1.8 in /usr/local/lib/python3.10/dist-packages (from openvino-dev[onnx,pytorch]==2022.3.0) (0.1.8)\n",
            "Requirement already satisfied: typing-extensions>=3.6.2.1 in /usr/local/lib/python3.10/dist-packages (from onnx<=1.12,>=1.8.1->openvino-dev[onnx,pytorch]==2022.3.0) (4.11.0)\n",
            "Requirement already satisfied: python-dateutil>=2.7.3 in /usr/local/lib/python3.10/dist-packages (from pandas~=1.3.5->openvino-dev[onnx,pytorch]==2022.3.0) (2.8.2)\n",
            "Requirement already satisfied: pytz>=2017.3 in /usr/local/lib/python3.10/dist-packages (from pandas~=1.3.5->openvino-dev[onnx,pytorch]==2022.3.0) (2023.4)\n",
            "Requirement already satisfied: charset-normalizer<4,>=2 in /usr/local/lib/python3.10/dist-packages (from requests>=2.25.1->openvino-dev[onnx,pytorch]==2022.3.0) (3.3.2)\n",
            "Requirement already satisfied: idna<4,>=2.5 in /usr/local/lib/python3.10/dist-packages (from requests>=2.25.1->openvino-dev[onnx,pytorch]==2022.3.0) (3.7)\n",
            "Requirement already satisfied: urllib3<3,>=1.21.1 in /usr/local/lib/python3.10/dist-packages (from requests>=2.25.1->openvino-dev[onnx,pytorch]==2022.3.0) (2.0.7)\n",
            "Requirement already satisfied: certifi>=2017.4.17 in /usr/local/lib/python3.10/dist-packages (from requests>=2.25.1->openvino-dev[onnx,pytorch]==2022.3.0) (2024.2.2)\n",
            "Requirement already satisfied: nvidia-cuda-runtime-cu11==11.7.99 in /usr/local/lib/python3.10/dist-packages (from torch<=1.13.0,>=1.8.1->openvino-dev[onnx,pytorch]==2022.3.0) (11.7.99)\n",
            "Requirement already satisfied: nvidia-cudnn-cu11==8.5.0.96 in /usr/local/lib/python3.10/dist-packages (from torch<=1.13.0,>=1.8.1->openvino-dev[onnx,pytorch]==2022.3.0) (8.5.0.96)\n",
            "Requirement already satisfied: nvidia-cublas-cu11==11.10.3.66 in /usr/local/lib/python3.10/dist-packages (from torch<=1.13.0,>=1.8.1->openvino-dev[onnx,pytorch]==2022.3.0) (11.10.3.66)\n",
            "Requirement already satisfied: nvidia-cuda-nvrtc-cu11==11.7.99 in /usr/local/lib/python3.10/dist-packages (from torch<=1.13.0,>=1.8.1->openvino-dev[onnx,pytorch]==2022.3.0) (11.7.99)\n",
            "Requirement already satisfied: setuptools in /usr/local/lib/python3.10/dist-packages (from nvidia-cublas-cu11==11.10.3.66->torch<=1.13.0,>=1.8.1->openvino-dev[onnx,pytorch]==2022.3.0) (67.7.2)\n",
            "Requirement already satisfied: wheel in /usr/local/lib/python3.10/dist-packages (from nvidia-cublas-cu11==11.10.3.66->torch<=1.13.0,>=1.8.1->openvino-dev[onnx,pytorch]==2022.3.0) (0.43.0)\n",
            "Requirement already satisfied: six>=1.5 in /usr/local/lib/python3.10/dist-packages (from python-dateutil>=2.7.3->pandas~=1.3.5->openvino-dev[onnx,pytorch]==2022.3.0) (1.16.0)\n"
          ]
        }
      ],
      "source": [
        "!pip install openvino-dev[onnx,pytorch]==2022.3.0\n"
      ]
    },
    {
      "cell_type": "code",
      "source": [
        "!pip install git-lfs"
      ],
      "metadata": {
        "colab": {
          "base_uri": "https://localhost:8080/"
        },
        "id": "P88FlV8hrX58",
        "outputId": "54cf392c-7424-4867-8c9b-b5a2fd7b006e"
      },
      "execution_count": 3,
      "outputs": [
        {
          "output_type": "stream",
          "name": "stdout",
          "text": [
            "Collecting git-lfs\n",
            "  Downloading git_lfs-1.6-py2.py3-none-any.whl (5.6 kB)\n",
            "Installing collected packages: git-lfs\n",
            "Successfully installed git-lfs-1.6\n"
          ]
        }
      ]
    },
    {
      "cell_type": "code",
      "source": [
        "!wget https://github.com/bes-dev/stable_diffusion.openvino.git\n"
      ],
      "metadata": {
        "colab": {
          "base_uri": "https://localhost:8080/"
        },
        "id": "gxrAFvtMU4_v",
        "outputId": "64e448f8-280e-4c1d-ec24-240abf502ee0"
      },
      "execution_count": 3,
      "outputs": [
        {
          "output_type": "stream",
          "name": "stdout",
          "text": [
            "--2024-06-03 10:39:15--  https://github.com/bes-dev/stable_diffusion.openvino.git\n",
            "Resolving github.com (github.com)... 140.82.116.3\n",
            "Connecting to github.com (github.com)|140.82.116.3|:443... connected.\n",
            "HTTP request sent, awaiting response... 301 Moved Permanently\n",
            "Location: https://github.com/bes-dev/stable_diffusion.openvino [following]\n",
            "--2024-06-03 10:39:15--  https://github.com/bes-dev/stable_diffusion.openvino\n",
            "Reusing existing connection to github.com:443.\n",
            "HTTP request sent, awaiting response... 200 OK\n",
            "Length: unspecified [text/html]\n",
            "Saving to: ‘stable_diffusion.openvino.git’\n",
            "\n",
            "stable_diffusion.op     [ <=>                ] 308.42K  --.-KB/s    in 0.02s   \n",
            "\n",
            "2024-06-03 10:39:15 (12.1 MB/s) - ‘stable_diffusion.openvino.git’ saved [315826]\n",
            "\n"
          ]
        }
      ]
    },
    {
      "cell_type": "code",
      "source": [
        "\n",
        "%%writefile requirements.txt\n",
        "numpy>=1.21.2\n",
        "opencv-python==4.5.5.64\n",
        "transformers==4.16.2\n",
        "diffusers==0.2.4\n",
        "tqdm==4.64.0\n",
        "openvino==2022.3.0\n",
        "huggingface_hub==0.9.0\n",
        "scipy==1.9.0\n",
        "streamlit==1.12.0\n",
        "watchdog==2.1.9\n",
        "ftfy==6.1.1\n",
        "streamlit_drawable_canvas==0.9.1\n",
        "pillow==9.0.1\n",
        "piexif==1.1.3\n",
        "\n",
        "\n"
      ],
      "metadata": {
        "colab": {
          "base_uri": "https://localhost:8080/"
        },
        "id": "ah9I9fCysPWq",
        "outputId": "c59d3e39-bbe3-4776-88f2-9ce18c59a0e3"
      },
      "execution_count": 5,
      "outputs": [
        {
          "output_type": "stream",
          "name": "stdout",
          "text": [
            "Writing requirements.txt\n"
          ]
        }
      ]
    },
    {
      "cell_type": "code",
      "source": [
        "!pip install -r requirements.txt"
      ],
      "metadata": {
        "colab": {
          "base_uri": "https://localhost:8080/"
        },
        "id": "r-RPOHvMU48x",
        "outputId": "524c4dca-297f-488a-d4cf-efab69f86989"
      },
      "execution_count": 6,
      "outputs": [
        {
          "output_type": "stream",
          "name": "stdout",
          "text": [
            "Collecting numpy==1.19.5 (from -r requirements.txt (line 1))\n",
            "  Downloading numpy-1.19.5.zip (7.3 MB)\n",
            "\u001b[2K     \u001b[90m━━━━━━━━━━━━━━━━━━━━━━━━━━━━━━━━━━━━━━━━\u001b[0m \u001b[32m7.3/7.3 MB\u001b[0m \u001b[31m49.8 MB/s\u001b[0m eta \u001b[36m0:00:00\u001b[0m\n",
            "\u001b[?25h  Installing build dependencies ... \u001b[?25l\u001b[?25hdone\n",
            "  Getting requirements to build wheel ... \u001b[?25l\u001b[?25hdone\n",
            "  Preparing metadata (pyproject.toml) ... \u001b[?25l\u001b[?25hdone\n",
            "Collecting opencv-python==4.5.5.64 (from -r requirements.txt (line 2))\n",
            "  Downloading opencv_python-4.5.5.64-cp36-abi3-manylinux_2_17_x86_64.manylinux2014_x86_64.whl (60.5 MB)\n",
            "\u001b[2K     \u001b[90m━━━━━━━━━━━━━━━━━━━━━━━━━━━━━━━━━━━━━━━━\u001b[0m \u001b[32m60.5/60.5 MB\u001b[0m \u001b[31m7.9 MB/s\u001b[0m eta \u001b[36m0:00:00\u001b[0m\n",
            "\u001b[?25hCollecting transformers==4.16.2 (from -r requirements.txt (line 3))\n",
            "  Downloading transformers-4.16.2-py3-none-any.whl (3.5 MB)\n",
            "\u001b[2K     \u001b[90m━━━━━━━━━━━━━━━━━━━━━━━━━━━━━━━━━━━━━━━━\u001b[0m \u001b[32m3.5/3.5 MB\u001b[0m \u001b[31m77.8 MB/s\u001b[0m eta \u001b[36m0:00:00\u001b[0m\n",
            "\u001b[?25hCollecting diffusers==0.2.4 (from -r requirements.txt (line 4))\n",
            "  Downloading diffusers-0.2.4-py3-none-any.whl (112 kB)\n",
            "\u001b[2K     \u001b[90m━━━━━━━━━━━━━━━━━━━━━━━━━━━━━━━━━━━━━━━━\u001b[0m \u001b[32m113.0/113.0 kB\u001b[0m \u001b[31m13.3 MB/s\u001b[0m eta \u001b[36m0:00:00\u001b[0m\n",
            "\u001b[?25hCollecting tqdm==4.64.0 (from -r requirements.txt (line 5))\n",
            "  Downloading tqdm-4.64.0-py2.py3-none-any.whl (78 kB)\n",
            "\u001b[2K     \u001b[90m━━━━━━━━━━━━━━━━━━━━━━━━━━━━━━━━━━━━━━━━\u001b[0m \u001b[32m78.4/78.4 kB\u001b[0m \u001b[31m9.5 MB/s\u001b[0m eta \u001b[36m0:00:00\u001b[0m\n",
            "\u001b[?25hRequirement already satisfied: openvino==2022.3.0 in /usr/local/lib/python3.10/dist-packages (from -r requirements.txt (line 6)) (2022.3.0)\n",
            "Collecting huggingface_hub==0.9.0 (from -r requirements.txt (line 7))\n",
            "  Downloading huggingface_hub-0.9.0-py3-none-any.whl (120 kB)\n",
            "\u001b[2K     \u001b[90m━━━━━━━━━━━━━━━━━━━━━━━━━━━━━━━━━━━━━━━━\u001b[0m \u001b[32m120.5/120.5 kB\u001b[0m \u001b[31m13.9 MB/s\u001b[0m eta \u001b[36m0:00:00\u001b[0m\n",
            "\u001b[?25hCollecting scipy==1.9.0 (from -r requirements.txt (line 8))\n",
            "  Downloading scipy-1.9.0-cp310-cp310-manylinux_2_17_x86_64.manylinux2014_x86_64.whl (43.9 MB)\n",
            "\u001b[2K     \u001b[90m━━━━━━━━━━━━━━━━━━━━━━━━━━━━━━━━━━━━━━━━\u001b[0m \u001b[32m43.9/43.9 MB\u001b[0m \u001b[31m9.3 MB/s\u001b[0m eta \u001b[36m0:00:00\u001b[0m\n",
            "\u001b[?25hCollecting streamlit==1.12.0 (from -r requirements.txt (line 9))\n",
            "  Downloading streamlit-1.12.0-py2.py3-none-any.whl (9.1 MB)\n",
            "\u001b[2K     \u001b[90m━━━━━━━━━━━━━━━━━━━━━━━━━━━━━━━━━━━━━━━━\u001b[0m \u001b[32m9.1/9.1 MB\u001b[0m \u001b[31m56.2 MB/s\u001b[0m eta \u001b[36m0:00:00\u001b[0m\n",
            "\u001b[?25hCollecting watchdog==2.1.9 (from -r requirements.txt (line 10))\n",
            "  Downloading watchdog-2.1.9-py3-none-manylinux2014_x86_64.whl (78 kB)\n",
            "\u001b[2K     \u001b[90m━━━━━━━━━━━━━━━━━━━━━━━━━━━━━━━━━━━━━━━━\u001b[0m \u001b[32m78.4/78.4 kB\u001b[0m \u001b[31m8.6 MB/s\u001b[0m eta \u001b[36m0:00:00\u001b[0m\n",
            "\u001b[?25hCollecting ftfy==6.1.1 (from -r requirements.txt (line 11))\n",
            "  Downloading ftfy-6.1.1-py3-none-any.whl (53 kB)\n",
            "\u001b[2K     \u001b[90m━━━━━━━━━━━━━━━━━━━━━━━━━━━━━━━━━━━━━━━━\u001b[0m \u001b[32m53.1/53.1 kB\u001b[0m \u001b[31m6.2 MB/s\u001b[0m eta \u001b[36m0:00:00\u001b[0m\n",
            "\u001b[?25hCollecting streamlit_drawable_canvas==0.9.1 (from -r requirements.txt (line 12))\n",
            "  Downloading streamlit_drawable_canvas-0.9.1-py3-none-any.whl (1.1 MB)\n",
            "\u001b[2K     \u001b[90m━━━━━━━━━━━━━━━━━━━━━━━━━━━━━━━━━━━━━━━━\u001b[0m \u001b[32m1.1/1.1 MB\u001b[0m \u001b[31m48.8 MB/s\u001b[0m eta \u001b[36m0:00:00\u001b[0m\n",
            "\u001b[?25hCollecting pillow==9.0.1 (from -r requirements.txt (line 13))\n",
            "  Downloading Pillow-9.0.1-cp310-cp310-manylinux_2_17_x86_64.manylinux2014_x86_64.whl (4.3 MB)\n",
            "\u001b[2K     \u001b[90m━━━━━━━━━━━━━━━━━━━━━━━━━━━━━━━━━━━━━━━━\u001b[0m \u001b[32m4.3/4.3 MB\u001b[0m \u001b[31m79.7 MB/s\u001b[0m eta \u001b[36m0:00:00\u001b[0m\n",
            "\u001b[?25hCollecting piexif==1.1.3 (from -r requirements.txt (line 14))\n",
            "  Downloading piexif-1.1.3-py2.py3-none-any.whl (20 kB)\n",
            "INFO: pip is looking at multiple versions of opencv-python to determine which version is compatible with other requirements. This could take a while.\n",
            "\u001b[31mERROR: Cannot install -r requirements.txt (line 2) and numpy==1.19.5 because these package versions have conflicting dependencies.\u001b[0m\u001b[31m\n",
            "\u001b[0m\n",
            "The conflict is caused by:\n",
            "    The user requested numpy==1.19.5\n",
            "    opencv-python 4.5.5.64 depends on numpy>=1.21.2; python_version >= \"3.10\"\n",
            "\n",
            "To fix this you could try to:\n",
            "1. loosen the range of package versions you've specified\n",
            "2. remove package versions to allow pip attempt to solve the dependency conflict\n",
            "\n",
            "\u001b[31mERROR: ResolutionImpossible: for help visit https://pip.pypa.io/en/latest/topics/dependency-resolution/#dealing-with-dependency-conflicts\u001b[0m\u001b[31m\n",
            "\u001b[0m"
          ]
        }
      ]
    },
    {
      "cell_type": "code",
      "source": [
        "# prompt: ERROR: Cannot install -r requirements.txt (line 2) and numpy==1.19.5 because these package versions have conflicting dependencies.\n",
        "# The conflict is caused by:\n",
        "#     The user requested numpy==1.19.5\n",
        "#     opencv-python 4.5.5.64 depends on numpy>=1.21.2; python_version >= \"3.10\"\n",
        "# To fix this you could try to:\n",
        "# 1. loosen the range of package versions you've specified\n",
        "# 2. remove package versions to allow pi\n",
        "\n",
        "!pip install openvino-dev[onnx,pytorch]==2022.3.0\n",
        "\n",
        "!pip install git-lfs\n",
        "!wget https://github.com/bes-dev/stable_diffusion.openvino.git\n",
        "\n",
        "%%writefile requirements.txt\n",
        "numpy>=1.21.2\n",
        "opencv-python==4.5.5.64\n",
        "transformers==4.16.2\n",
        "diffusers==0.2.4\n",
        "tqdm==4.64.0\n",
        "openvino==2022.3.0\n",
        "huggingface_hub==0.9.0\n",
        "scipy==1.9.0\n",
        "streamlit==1.12.0\n",
        "watchdog==2.1.9\n",
        "ftfy==6.1.1\n",
        "streamlit_drawable_canvas==0.9.1\n",
        "pillow==9.0.1\n",
        "piexif==1.1.3\n",
        "\n",
        "!pip install -r requirements.txt\n"
      ],
      "metadata": {
        "id": "lOCXvtCEtrYD"
      },
      "execution_count": null,
      "outputs": []
    },
    {
      "cell_type": "code",
      "source": [
        "!wget https://github.com/bes-dev/stable_diffusion.openvino/blob/master/demo.py"
      ],
      "metadata": {
        "colab": {
          "base_uri": "https://localhost:8080/"
        },
        "id": "Uyru88sRU453",
        "outputId": "9aa4f792-0098-48fa-ea8f-668e62eb5210"
      },
      "execution_count": 7,
      "outputs": [
        {
          "output_type": "stream",
          "name": "stdout",
          "text": [
            "--2024-06-03 10:46:40--  https://github.com/bes-dev/stable_diffusion.openvino/blob/master/demo.py\n",
            "Resolving github.com (github.com)... 140.82.116.3\n",
            "Connecting to github.com (github.com)|140.82.116.3|:443... connected.\n",
            "HTTP request sent, awaiting response... 200 OK\n",
            "Length: unspecified [text/html]\n",
            "Saving to: ‘demo.py’\n",
            "\n",
            "demo.py                 [ <=>                ] 165.19K  --.-KB/s    in 0.03s   \n",
            "\n",
            "2024-06-03 10:46:41 (5.56 MB/s) - ‘demo.py’ saved [169152]\n",
            "\n"
          ]
        }
      ]
    },
    {
      "cell_type": "code",
      "source": [
        "!wget https://github.com/bes-dev/stable_diffusion.openvino/blob/master/stable_diffusion_engine.py"
      ],
      "metadata": {
        "id": "mplIad6KU4xq"
      },
      "execution_count": null,
      "outputs": []
    }
  ]
}