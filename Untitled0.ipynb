{
  "nbformat": 4,
  "nbformat_minor": 0,
  "metadata": {
    "colab": {
      "provenance": [],
      "gpuType": "T4",
      "authorship_tag": "ABX9TyP5CkMnf1pkqq8Yejd69lPr",
      "include_colab_link": true
    },
    "kernelspec": {
      "name": "python3",
      "display_name": "Python 3"
    },
    "language_info": {
      "name": "python"
    },
    "accelerator": "GPU"
  },
  "cells": [
    {
      "cell_type": "markdown",
      "metadata": {
        "id": "view-in-github",
        "colab_type": "text"
      },
      "source": [
        "<a href=\"https://colab.research.google.com/github/prateekrana17/3D-LLM/blob/main/Untitled0.ipynb\" target=\"_parent\"><img src=\"https://colab.research.google.com/assets/colab-badge.svg\" alt=\"Open In Colab\"/></a>"
      ]
    },
    {
      "cell_type": "code",
      "execution_count": 1,
      "metadata": {
        "colab": {
          "base_uri": "https://localhost:8080/"
        },
        "id": "Gf-LKdFzT7kD",
        "outputId": "8546dfbf-d87b-40d1-ec23-ac0b9d20a1f3"
      },
      "outputs": [
        {
          "output_type": "stream",
          "name": "stdout",
          "text": [
            "Requirement already satisfied: openvino-dev[onnx,pytorch]==2022.3.0 in /usr/local/lib/python3.10/dist-packages (2022.3.0)\n",
            "Requirement already satisfied: addict>=2.4.0 in /usr/local/lib/python3.10/dist-packages (from openvino-dev[onnx,pytorch]==2022.3.0) (2.4.0)\n",
            "Requirement already satisfied: defusedxml>=0.7.1 in /usr/local/lib/python3.10/dist-packages (from openvino-dev[onnx,pytorch]==2022.3.0) (0.7.1)\n",
            "Requirement already satisfied: jstyleson>=0.0.2 in /usr/local/lib/python3.10/dist-packages (from openvino-dev[onnx,pytorch]==2022.3.0) (0.0.2)\n",
            "Requirement already satisfied: networkx<=2.8.8 in /usr/local/lib/python3.10/dist-packages (from openvino-dev[onnx,pytorch]==2022.3.0) (2.8.8)\n",
            "Requirement already satisfied: numpy<=1.23.4,>=1.16.6 in /usr/local/lib/python3.10/dist-packages (from openvino-dev[onnx,pytorch]==2022.3.0) (1.23.4)\n",
            "Requirement already satisfied: opencv-python>=4.5 in /usr/local/lib/python3.10/dist-packages (from openvino-dev[onnx,pytorch]==2022.3.0) (4.8.0.76)\n",
            "Requirement already satisfied: openvino-telemetry>=2022.1.0 in /usr/local/lib/python3.10/dist-packages (from openvino-dev[onnx,pytorch]==2022.3.0) (2024.1.0)\n",
            "Requirement already satisfied: pandas~=1.3.5 in /usr/local/lib/python3.10/dist-packages (from openvino-dev[onnx,pytorch]==2022.3.0) (1.3.5)\n",
            "Requirement already satisfied: pillow>=8.1.2 in /usr/local/lib/python3.10/dist-packages (from openvino-dev[onnx,pytorch]==2022.3.0) (9.4.0)\n",
            "Requirement already satisfied: pyyaml>=5.4.1 in /usr/local/lib/python3.10/dist-packages (from openvino-dev[onnx,pytorch]==2022.3.0) (6.0.1)\n",
            "Requirement already satisfied: requests>=2.25.1 in /usr/local/lib/python3.10/dist-packages (from openvino-dev[onnx,pytorch]==2022.3.0) (2.31.0)\n",
            "Requirement already satisfied: texttable>=1.6.3 in /usr/local/lib/python3.10/dist-packages (from openvino-dev[onnx,pytorch]==2022.3.0) (1.7.0)\n",
            "Requirement already satisfied: tqdm>=4.54.1 in /usr/local/lib/python3.10/dist-packages (from openvino-dev[onnx,pytorch]==2022.3.0) (4.66.4)\n",
            "Requirement already satisfied: openvino==2022.3.0 in /usr/local/lib/python3.10/dist-packages (from openvino-dev[onnx,pytorch]==2022.3.0) (2022.3.0)\n",
            "Requirement already satisfied: scipy>=1.8 in /usr/local/lib/python3.10/dist-packages (from openvino-dev[onnx,pytorch]==2022.3.0) (1.8.1)\n",
            "Requirement already satisfied: fastjsonschema~=2.15.1 in /usr/local/lib/python3.10/dist-packages (from openvino-dev[onnx,pytorch]==2022.3.0) (2.15.3)\n",
            "Requirement already satisfied: onnx<=1.12,>=1.8.1 in /usr/local/lib/python3.10/dist-packages (from openvino-dev[onnx,pytorch]==2022.3.0) (1.12.0)\n",
            "Requirement already satisfied: protobuf<4.0.0,>=3.18.1 in /usr/local/lib/python3.10/dist-packages (from openvino-dev[onnx,pytorch]==2022.3.0) (3.20.1)\n",
            "Requirement already satisfied: torch<=1.13.0,>=1.8.1 in /usr/local/lib/python3.10/dist-packages (from openvino-dev[onnx,pytorch]==2022.3.0) (1.13.0)\n",
            "Requirement already satisfied: torchvision<=0.14.0,>=0.9.1 in /usr/local/lib/python3.10/dist-packages (from openvino-dev[onnx,pytorch]==2022.3.0) (0.14.0)\n",
            "Requirement already satisfied: yacs>=0.1.8 in /usr/local/lib/python3.10/dist-packages (from openvino-dev[onnx,pytorch]==2022.3.0) (0.1.8)\n",
            "Requirement already satisfied: typing-extensions>=3.6.2.1 in /usr/local/lib/python3.10/dist-packages (from onnx<=1.12,>=1.8.1->openvino-dev[onnx,pytorch]==2022.3.0) (4.11.0)\n",
            "Requirement already satisfied: python-dateutil>=2.7.3 in /usr/local/lib/python3.10/dist-packages (from pandas~=1.3.5->openvino-dev[onnx,pytorch]==2022.3.0) (2.8.2)\n",
            "Requirement already satisfied: pytz>=2017.3 in /usr/local/lib/python3.10/dist-packages (from pandas~=1.3.5->openvino-dev[onnx,pytorch]==2022.3.0) (2023.4)\n",
            "Requirement already satisfied: charset-normalizer<4,>=2 in /usr/local/lib/python3.10/dist-packages (from requests>=2.25.1->openvino-dev[onnx,pytorch]==2022.3.0) (3.3.2)\n",
            "Requirement already satisfied: idna<4,>=2.5 in /usr/local/lib/python3.10/dist-packages (from requests>=2.25.1->openvino-dev[onnx,pytorch]==2022.3.0) (3.7)\n",
            "Requirement already satisfied: urllib3<3,>=1.21.1 in /usr/local/lib/python3.10/dist-packages (from requests>=2.25.1->openvino-dev[onnx,pytorch]==2022.3.0) (2.0.7)\n",
            "Requirement already satisfied: certifi>=2017.4.17 in /usr/local/lib/python3.10/dist-packages (from requests>=2.25.1->openvino-dev[onnx,pytorch]==2022.3.0) (2024.2.2)\n",
            "Requirement already satisfied: nvidia-cuda-runtime-cu11==11.7.99 in /usr/local/lib/python3.10/dist-packages (from torch<=1.13.0,>=1.8.1->openvino-dev[onnx,pytorch]==2022.3.0) (11.7.99)\n",
            "Requirement already satisfied: nvidia-cudnn-cu11==8.5.0.96 in /usr/local/lib/python3.10/dist-packages (from torch<=1.13.0,>=1.8.1->openvino-dev[onnx,pytorch]==2022.3.0) (8.5.0.96)\n",
            "Requirement already satisfied: nvidia-cublas-cu11==11.10.3.66 in /usr/local/lib/python3.10/dist-packages (from torch<=1.13.0,>=1.8.1->openvino-dev[onnx,pytorch]==2022.3.0) (11.10.3.66)\n",
            "Requirement already satisfied: nvidia-cuda-nvrtc-cu11==11.7.99 in /usr/local/lib/python3.10/dist-packages (from torch<=1.13.0,>=1.8.1->openvino-dev[onnx,pytorch]==2022.3.0) (11.7.99)\n",
            "Requirement already satisfied: setuptools in /usr/local/lib/python3.10/dist-packages (from nvidia-cublas-cu11==11.10.3.66->torch<=1.13.0,>=1.8.1->openvino-dev[onnx,pytorch]==2022.3.0) (67.7.2)\n",
            "Requirement already satisfied: wheel in /usr/local/lib/python3.10/dist-packages (from nvidia-cublas-cu11==11.10.3.66->torch<=1.13.0,>=1.8.1->openvino-dev[onnx,pytorch]==2022.3.0) (0.43.0)\n",
            "Requirement already satisfied: six>=1.5 in /usr/local/lib/python3.10/dist-packages (from python-dateutil>=2.7.3->pandas~=1.3.5->openvino-dev[onnx,pytorch]==2022.3.0) (1.16.0)\n"
          ]
        }
      ],
      "source": [
        "!pip install openvino-dev[onnx,pytorch]==2022.3.0\n"
      ]
    },
    {
      "cell_type": "code",
      "source": [
        "!pip install git-lfs"
      ],
      "metadata": {
        "colab": {
          "base_uri": "https://localhost:8080/"
        },
        "id": "P88FlV8hrX58",
        "outputId": "54cf392c-7424-4867-8c9b-b5a2fd7b006e"
      },
      "execution_count": 3,
      "outputs": [
        {
          "output_type": "stream",
          "name": "stdout",
          "text": [
            "Collecting git-lfs\n",
            "  Downloading git_lfs-1.6-py2.py3-none-any.whl (5.6 kB)\n",
            "Installing collected packages: git-lfs\n",
            "Successfully installed git-lfs-1.6\n"
          ]
        }
      ]
    },
    {
      "cell_type": "code",
      "source": [
        "!wget https://github.com/bes-dev/stable_diffusion.openvino.git\n"
      ],
      "metadata": {
        "colab": {
          "base_uri": "https://localhost:8080/"
        },
        "id": "gxrAFvtMU4_v",
        "outputId": "64e448f8-280e-4c1d-ec24-240abf502ee0"
      },
      "execution_count": 3,
      "outputs": [
        {
          "output_type": "stream",
          "name": "stdout",
          "text": [
            "--2024-06-03 10:39:15--  https://github.com/bes-dev/stable_diffusion.openvino.git\n",
            "Resolving github.com (github.com)... 140.82.116.3\n",
            "Connecting to github.com (github.com)|140.82.116.3|:443... connected.\n",
            "HTTP request sent, awaiting response... 301 Moved Permanently\n",
            "Location: https://github.com/bes-dev/stable_diffusion.openvino [following]\n",
            "--2024-06-03 10:39:15--  https://github.com/bes-dev/stable_diffusion.openvino\n",
            "Reusing existing connection to github.com:443.\n",
            "HTTP request sent, awaiting response... 200 OK\n",
            "Length: unspecified [text/html]\n",
            "Saving to: ‘stable_diffusion.openvino.git’\n",
            "\n",
            "stable_diffusion.op     [ <=>                ] 308.42K  --.-KB/s    in 0.02s   \n",
            "\n",
            "2024-06-03 10:39:15 (12.1 MB/s) - ‘stable_diffusion.openvino.git’ saved [315826]\n",
            "\n"
          ]
        }
      ]
    },
    {
      "cell_type": "code",
      "source": [
        "\n",
        "%%writefile requirements.txt\n",
        "numpy>=1.21.2\n",
        "opencv-python==4.5.5.64\n",
        "transformers==4.16.2\n",
        "diffusers==0.2.4\n",
        "tqdm==4.64.0\n",
        "openvino==2022.3.0\n",
        "huggingface_hub==0.9.0\n",
        "scipy==1.9.0\n",
        "streamlit==1.12.0\n",
        "watchdog==2.1.9\n",
        "ftfy==6.1.1\n",
        "streamlit_drawable_canvas==0.9.1\n",
        "pillow==9.0.1\n",
        "piexif==1.1.3\n",
        "\n",
        "\n"
      ],
      "metadata": {
        "colab": {
          "base_uri": "https://localhost:8080/"
        },
        "id": "ah9I9fCysPWq",
        "outputId": "db7fb5be-74e8-406b-e751-659201c6956f"
      },
      "execution_count": 9,
      "outputs": [
        {
          "output_type": "stream",
          "name": "stdout",
          "text": [
            "Overwriting requirements.txt\n",
            "Overwriting requirements.txt\n"
          ]
        }
      ]
    },
    {
      "cell_type": "code",
      "source": [
        "!pip install -r requirements.txt"
      ],
      "metadata": {
        "colab": {
          "base_uri": "https://localhost:8080/",
          "height": 1000
        },
        "id": "r-RPOHvMU48x",
        "outputId": "c4f501f6-c183-4713-a7d8-13cdfd210f9d"
      },
      "execution_count": 10,
      "outputs": [
        {
          "output_type": "stream",
          "name": "stdout",
          "text": [
            "Requirement already satisfied: numpy>=1.21.2 in /usr/local/lib/python3.10/dist-packages (from -r requirements.txt (line 1)) (1.23.4)\n",
            "Collecting opencv-python==4.5.5.64 (from -r requirements.txt (line 2))\n",
            "  Using cached opencv_python-4.5.5.64-cp36-abi3-manylinux_2_17_x86_64.manylinux2014_x86_64.whl (60.5 MB)\n",
            "Collecting transformers==4.16.2 (from -r requirements.txt (line 3))\n",
            "  Using cached transformers-4.16.2-py3-none-any.whl (3.5 MB)\n",
            "Collecting diffusers==0.2.4 (from -r requirements.txt (line 4))\n",
            "  Using cached diffusers-0.2.4-py3-none-any.whl (112 kB)\n",
            "Collecting tqdm==4.64.0 (from -r requirements.txt (line 5))\n",
            "  Using cached tqdm-4.64.0-py2.py3-none-any.whl (78 kB)\n",
            "Requirement already satisfied: openvino==2022.3.0 in /usr/local/lib/python3.10/dist-packages (from -r requirements.txt (line 6)) (2022.3.0)\n",
            "Collecting huggingface_hub==0.9.0 (from -r requirements.txt (line 7))\n",
            "  Using cached huggingface_hub-0.9.0-py3-none-any.whl (120 kB)\n",
            "Collecting scipy==1.9.0 (from -r requirements.txt (line 8))\n",
            "  Using cached scipy-1.9.0-cp310-cp310-manylinux_2_17_x86_64.manylinux2014_x86_64.whl (43.9 MB)\n",
            "Collecting streamlit==1.12.0 (from -r requirements.txt (line 9))\n",
            "  Using cached streamlit-1.12.0-py2.py3-none-any.whl (9.1 MB)\n",
            "Collecting watchdog==2.1.9 (from -r requirements.txt (line 10))\n",
            "  Using cached watchdog-2.1.9-py3-none-manylinux2014_x86_64.whl (78 kB)\n",
            "Collecting ftfy==6.1.1 (from -r requirements.txt (line 11))\n",
            "  Using cached ftfy-6.1.1-py3-none-any.whl (53 kB)\n",
            "Collecting streamlit_drawable_canvas==0.9.1 (from -r requirements.txt (line 12))\n",
            "  Using cached streamlit_drawable_canvas-0.9.1-py3-none-any.whl (1.1 MB)\n",
            "Collecting pillow==9.0.1 (from -r requirements.txt (line 13))\n",
            "  Using cached Pillow-9.0.1-cp310-cp310-manylinux_2_17_x86_64.manylinux2014_x86_64.whl (4.3 MB)\n",
            "Collecting piexif==1.1.3 (from -r requirements.txt (line 14))\n",
            "  Using cached piexif-1.1.3-py2.py3-none-any.whl (20 kB)\n",
            "Requirement already satisfied: filelock in /usr/local/lib/python3.10/dist-packages (from transformers==4.16.2->-r requirements.txt (line 3)) (3.14.0)\n",
            "Requirement already satisfied: packaging>=20.0 in /usr/local/lib/python3.10/dist-packages (from transformers==4.16.2->-r requirements.txt (line 3)) (24.0)\n",
            "Requirement already satisfied: pyyaml>=5.1 in /usr/local/lib/python3.10/dist-packages (from transformers==4.16.2->-r requirements.txt (line 3)) (6.0.1)\n",
            "Requirement already satisfied: regex!=2019.12.17 in /usr/local/lib/python3.10/dist-packages (from transformers==4.16.2->-r requirements.txt (line 3)) (2024.5.15)\n",
            "Requirement already satisfied: requests in /usr/local/lib/python3.10/dist-packages (from transformers==4.16.2->-r requirements.txt (line 3)) (2.31.0)\n",
            "Collecting sacremoses (from transformers==4.16.2->-r requirements.txt (line 3))\n",
            "  Downloading sacremoses-0.1.1-py3-none-any.whl (897 kB)\n",
            "\u001b[2K     \u001b[90m━━━━━━━━━━━━━━━━━━━━━━━━━━━━━━━━━━━━━━━━\u001b[0m \u001b[32m897.5/897.5 kB\u001b[0m \u001b[31m8.1 MB/s\u001b[0m eta \u001b[36m0:00:00\u001b[0m\n",
            "\u001b[?25hRequirement already satisfied: tokenizers!=0.11.3,>=0.10.1 in /usr/local/lib/python3.10/dist-packages (from transformers==4.16.2->-r requirements.txt (line 3)) (0.19.1)\n",
            "Requirement already satisfied: importlib-metadata in /usr/local/lib/python3.10/dist-packages (from diffusers==0.2.4->-r requirements.txt (line 4)) (7.1.0)\n",
            "Requirement already satisfied: torch>=1.4 in /usr/local/lib/python3.10/dist-packages (from diffusers==0.2.4->-r requirements.txt (line 4)) (1.13.0)\n",
            "Requirement already satisfied: typing-extensions>=3.7.4.3 in /usr/local/lib/python3.10/dist-packages (from huggingface_hub==0.9.0->-r requirements.txt (line 7)) (4.11.0)\n",
            "Requirement already satisfied: altair>=3.2.0 in /usr/local/lib/python3.10/dist-packages (from streamlit==1.12.0->-r requirements.txt (line 9)) (4.2.2)\n",
            "Requirement already satisfied: blinker>=1.0.0 in /usr/lib/python3/dist-packages (from streamlit==1.12.0->-r requirements.txt (line 9)) (1.4)\n",
            "Requirement already satisfied: cachetools>=4.0 in /usr/local/lib/python3.10/dist-packages (from streamlit==1.12.0->-r requirements.txt (line 9)) (5.3.3)\n",
            "Requirement already satisfied: click>=7.0 in /usr/local/lib/python3.10/dist-packages (from streamlit==1.12.0->-r requirements.txt (line 9)) (8.1.7)\n",
            "Requirement already satisfied: pandas>=0.21.0 in /usr/local/lib/python3.10/dist-packages (from streamlit==1.12.0->-r requirements.txt (line 9)) (1.3.5)\n",
            "Requirement already satisfied: protobuf<4,>=3.12 in /usr/local/lib/python3.10/dist-packages (from streamlit==1.12.0->-r requirements.txt (line 9)) (3.20.1)\n",
            "Requirement already satisfied: pyarrow>=4.0 in /usr/local/lib/python3.10/dist-packages (from streamlit==1.12.0->-r requirements.txt (line 9)) (14.0.2)\n",
            "Collecting pydeck>=0.1.dev5 (from streamlit==1.12.0->-r requirements.txt (line 9))\n",
            "  Downloading pydeck-0.9.1-py2.py3-none-any.whl (6.9 MB)\n",
            "\u001b[2K     \u001b[90m━━━━━━━━━━━━━━━━━━━━━━━━━━━━━━━━━━━━━━━━\u001b[0m \u001b[32m6.9/6.9 MB\u001b[0m \u001b[31m13.6 MB/s\u001b[0m eta \u001b[36m0:00:00\u001b[0m\n",
            "\u001b[?25hCollecting pympler>=0.9 (from streamlit==1.12.0->-r requirements.txt (line 9))\n",
            "  Downloading Pympler-1.0.1-py3-none-any.whl (164 kB)\n",
            "\u001b[2K     \u001b[90m━━━━━━━━━━━━━━━━━━━━━━━━━━━━━━━━━━━━━━━━\u001b[0m \u001b[32m164.8/164.8 kB\u001b[0m \u001b[31m16.8 MB/s\u001b[0m eta \u001b[36m0:00:00\u001b[0m\n",
            "\u001b[?25hRequirement already satisfied: python-dateutil in /usr/local/lib/python3.10/dist-packages (from streamlit==1.12.0->-r requirements.txt (line 9)) (2.8.2)\n",
            "Requirement already satisfied: rich>=10.11.0 in /usr/local/lib/python3.10/dist-packages (from streamlit==1.12.0->-r requirements.txt (line 9)) (13.7.1)\n",
            "Collecting semver (from streamlit==1.12.0->-r requirements.txt (line 9))\n",
            "  Downloading semver-3.0.2-py3-none-any.whl (17 kB)\n",
            "Requirement already satisfied: toml in /usr/local/lib/python3.10/dist-packages (from streamlit==1.12.0->-r requirements.txt (line 9)) (0.10.2)\n",
            "Requirement already satisfied: tornado>=5.0 in /usr/local/lib/python3.10/dist-packages (from streamlit==1.12.0->-r requirements.txt (line 9)) (6.3.3)\n",
            "Requirement already satisfied: tzlocal>=1.1 in /usr/local/lib/python3.10/dist-packages (from streamlit==1.12.0->-r requirements.txt (line 9)) (5.2)\n",
            "Collecting validators>=0.2 (from streamlit==1.12.0->-r requirements.txt (line 9))\n",
            "  Downloading validators-0.28.3-py3-none-any.whl (40 kB)\n",
            "\u001b[2K     \u001b[90m━━━━━━━━━━━━━━━━━━━━━━━━━━━━━━━━━━━━━━━━\u001b[0m \u001b[32m40.0/40.0 kB\u001b[0m \u001b[31m4.8 MB/s\u001b[0m eta \u001b[36m0:00:00\u001b[0m\n",
            "\u001b[?25hCollecting gitpython!=3.1.19 (from streamlit==1.12.0->-r requirements.txt (line 9))\n",
            "  Downloading GitPython-3.1.43-py3-none-any.whl (207 kB)\n",
            "\u001b[2K     \u001b[90m━━━━━━━━━━━━━━━━━━━━━━━━━━━━━━━━━━━━━━━━\u001b[0m \u001b[32m207.3/207.3 kB\u001b[0m \u001b[31m20.6 MB/s\u001b[0m eta \u001b[36m0:00:00\u001b[0m\n",
            "\u001b[?25hRequirement already satisfied: wcwidth>=0.2.5 in /usr/local/lib/python3.10/dist-packages (from ftfy==6.1.1->-r requirements.txt (line 11)) (0.2.13)\n",
            "Requirement already satisfied: entrypoints in /usr/local/lib/python3.10/dist-packages (from altair>=3.2.0->streamlit==1.12.0->-r requirements.txt (line 9)) (0.4)\n",
            "Requirement already satisfied: jinja2 in /usr/local/lib/python3.10/dist-packages (from altair>=3.2.0->streamlit==1.12.0->-r requirements.txt (line 9)) (3.1.4)\n",
            "Requirement already satisfied: jsonschema>=3.0 in /usr/local/lib/python3.10/dist-packages (from altair>=3.2.0->streamlit==1.12.0->-r requirements.txt (line 9)) (4.19.2)\n",
            "Requirement already satisfied: toolz in /usr/local/lib/python3.10/dist-packages (from altair>=3.2.0->streamlit==1.12.0->-r requirements.txt (line 9)) (0.12.1)\n",
            "Collecting gitdb<5,>=4.0.1 (from gitpython!=3.1.19->streamlit==1.12.0->-r requirements.txt (line 9))\n",
            "  Downloading gitdb-4.0.11-py3-none-any.whl (62 kB)\n",
            "\u001b[2K     \u001b[90m━━━━━━━━━━━━━━━━━━━━━━━━━━━━━━━━━━━━━━━━\u001b[0m \u001b[32m62.7/62.7 kB\u001b[0m \u001b[31m7.7 MB/s\u001b[0m eta \u001b[36m0:00:00\u001b[0m\n",
            "\u001b[?25hRequirement already satisfied: zipp>=0.5 in /usr/local/lib/python3.10/dist-packages (from importlib-metadata->diffusers==0.2.4->-r requirements.txt (line 4)) (3.18.2)\n",
            "Requirement already satisfied: pytz>=2017.3 in /usr/local/lib/python3.10/dist-packages (from pandas>=0.21.0->streamlit==1.12.0->-r requirements.txt (line 9)) (2023.4)\n",
            "Requirement already satisfied: six>=1.5 in /usr/local/lib/python3.10/dist-packages (from python-dateutil->streamlit==1.12.0->-r requirements.txt (line 9)) (1.16.0)\n",
            "Requirement already satisfied: charset-normalizer<4,>=2 in /usr/local/lib/python3.10/dist-packages (from requests->transformers==4.16.2->-r requirements.txt (line 3)) (3.3.2)\n",
            "Requirement already satisfied: idna<4,>=2.5 in /usr/local/lib/python3.10/dist-packages (from requests->transformers==4.16.2->-r requirements.txt (line 3)) (3.7)\n",
            "Requirement already satisfied: urllib3<3,>=1.21.1 in /usr/local/lib/python3.10/dist-packages (from requests->transformers==4.16.2->-r requirements.txt (line 3)) (2.0.7)\n",
            "Requirement already satisfied: certifi>=2017.4.17 in /usr/local/lib/python3.10/dist-packages (from requests->transformers==4.16.2->-r requirements.txt (line 3)) (2024.2.2)\n",
            "Requirement already satisfied: markdown-it-py>=2.2.0 in /usr/local/lib/python3.10/dist-packages (from rich>=10.11.0->streamlit==1.12.0->-r requirements.txt (line 9)) (3.0.0)\n",
            "Requirement already satisfied: pygments<3.0.0,>=2.13.0 in /usr/local/lib/python3.10/dist-packages (from rich>=10.11.0->streamlit==1.12.0->-r requirements.txt (line 9)) (2.16.1)\n",
            "INFO: pip is looking at multiple versions of tokenizers to determine which version is compatible with other requirements. This could take a while.\n",
            "Collecting tokenizers!=0.11.3,>=0.10.1 (from transformers==4.16.2->-r requirements.txt (line 3))\n",
            "  Downloading tokenizers-0.19.0-cp310-cp310-manylinux_2_17_x86_64.manylinux2014_x86_64.whl (3.6 MB)\n",
            "\u001b[2K     \u001b[90m━━━━━━━━━━━━━━━━━━━━━━━━━━━━━━━━━━━━━━━━\u001b[0m \u001b[32m3.6/3.6 MB\u001b[0m \u001b[31m46.4 MB/s\u001b[0m eta \u001b[36m0:00:00\u001b[0m\n",
            "\u001b[?25h  Downloading tokenizers-0.15.2-cp310-cp310-manylinux_2_17_x86_64.manylinux2014_x86_64.whl (3.6 MB)\n",
            "\u001b[2K     \u001b[90m━━━━━━━━━━━━━━━━━━━━━━━━━━━━━━━━━━━━━━━━\u001b[0m \u001b[32m3.6/3.6 MB\u001b[0m \u001b[31m61.7 MB/s\u001b[0m eta \u001b[36m0:00:00\u001b[0m\n",
            "\u001b[?25h  Downloading tokenizers-0.15.1-cp310-cp310-manylinux_2_17_x86_64.manylinux2014_x86_64.whl (3.6 MB)\n",
            "\u001b[2K     \u001b[90m━━━━━━━━━━━━━━━━━━━━━━━━━━━━━━━━━━━━━━━━\u001b[0m \u001b[32m3.6/3.6 MB\u001b[0m \u001b[31m70.4 MB/s\u001b[0m eta \u001b[36m0:00:00\u001b[0m\n",
            "\u001b[?25h  Downloading tokenizers-0.15.0-cp310-cp310-manylinux_2_17_x86_64.manylinux2014_x86_64.whl (3.8 MB)\n",
            "\u001b[2K     \u001b[90m━━━━━━━━━━━━━━━━━━━━━━━━━━━━━━━━━━━━━━━━\u001b[0m \u001b[32m3.8/3.8 MB\u001b[0m \u001b[31m74.9 MB/s\u001b[0m eta \u001b[36m0:00:00\u001b[0m\n",
            "\u001b[?25h  Downloading tokenizers-0.14.1-cp310-cp310-manylinux_2_17_x86_64.manylinux2014_x86_64.whl (3.8 MB)\n",
            "\u001b[2K     \u001b[90m━━━━━━━━━━━━━━━━━━━━━━━━━━━━━━━━━━━━━━━━\u001b[0m \u001b[32m3.8/3.8 MB\u001b[0m \u001b[31m69.2 MB/s\u001b[0m eta \u001b[36m0:00:00\u001b[0m\n",
            "\u001b[?25h  Downloading tokenizers-0.14.0-cp310-cp310-manylinux_2_17_x86_64.manylinux2014_x86_64.whl (3.8 MB)\n",
            "\u001b[2K     \u001b[90m━━━━━━━━━━━━━━━━━━━━━━━━━━━━━━━━━━━━━━━━\u001b[0m \u001b[32m3.8/3.8 MB\u001b[0m \u001b[31m61.3 MB/s\u001b[0m eta \u001b[36m0:00:00\u001b[0m\n",
            "\u001b[?25h  Downloading tokenizers-0.13.3-cp310-cp310-manylinux_2_17_x86_64.manylinux2014_x86_64.whl (7.8 MB)\n",
            "\u001b[2K     \u001b[90m━━━━━━━━━━━━━━━━━━━━━━━━━━━━━━━━━━━━━━━━\u001b[0m \u001b[32m7.8/7.8 MB\u001b[0m \u001b[31m62.1 MB/s\u001b[0m eta \u001b[36m0:00:00\u001b[0m\n",
            "\u001b[?25hRequirement already satisfied: nvidia-cuda-runtime-cu11==11.7.99 in /usr/local/lib/python3.10/dist-packages (from torch>=1.4->diffusers==0.2.4->-r requirements.txt (line 4)) (11.7.99)\n",
            "Requirement already satisfied: nvidia-cudnn-cu11==8.5.0.96 in /usr/local/lib/python3.10/dist-packages (from torch>=1.4->diffusers==0.2.4->-r requirements.txt (line 4)) (8.5.0.96)\n",
            "Requirement already satisfied: nvidia-cublas-cu11==11.10.3.66 in /usr/local/lib/python3.10/dist-packages (from torch>=1.4->diffusers==0.2.4->-r requirements.txt (line 4)) (11.10.3.66)\n",
            "Requirement already satisfied: nvidia-cuda-nvrtc-cu11==11.7.99 in /usr/local/lib/python3.10/dist-packages (from torch>=1.4->diffusers==0.2.4->-r requirements.txt (line 4)) (11.7.99)\n",
            "Requirement already satisfied: setuptools in /usr/local/lib/python3.10/dist-packages (from nvidia-cublas-cu11==11.10.3.66->torch>=1.4->diffusers==0.2.4->-r requirements.txt (line 4)) (67.7.2)\n",
            "Requirement already satisfied: wheel in /usr/local/lib/python3.10/dist-packages (from nvidia-cublas-cu11==11.10.3.66->torch>=1.4->diffusers==0.2.4->-r requirements.txt (line 4)) (0.43.0)\n",
            "Requirement already satisfied: joblib in /usr/local/lib/python3.10/dist-packages (from sacremoses->transformers==4.16.2->-r requirements.txt (line 3)) (1.4.2)\n",
            "Collecting smmap<6,>=3.0.1 (from gitdb<5,>=4.0.1->gitpython!=3.1.19->streamlit==1.12.0->-r requirements.txt (line 9))\n",
            "  Downloading smmap-5.0.1-py3-none-any.whl (24 kB)\n",
            "Requirement already satisfied: MarkupSafe>=2.0 in /usr/local/lib/python3.10/dist-packages (from jinja2->altair>=3.2.0->streamlit==1.12.0->-r requirements.txt (line 9)) (2.1.5)\n",
            "Requirement already satisfied: attrs>=22.2.0 in /usr/local/lib/python3.10/dist-packages (from jsonschema>=3.0->altair>=3.2.0->streamlit==1.12.0->-r requirements.txt (line 9)) (23.2.0)\n",
            "Requirement already satisfied: jsonschema-specifications>=2023.03.6 in /usr/local/lib/python3.10/dist-packages (from jsonschema>=3.0->altair>=3.2.0->streamlit==1.12.0->-r requirements.txt (line 9)) (2023.12.1)\n",
            "Requirement already satisfied: referencing>=0.28.4 in /usr/local/lib/python3.10/dist-packages (from jsonschema>=3.0->altair>=3.2.0->streamlit==1.12.0->-r requirements.txt (line 9)) (0.35.1)\n",
            "Requirement already satisfied: rpds-py>=0.7.1 in /usr/local/lib/python3.10/dist-packages (from jsonschema>=3.0->altair>=3.2.0->streamlit==1.12.0->-r requirements.txt (line 9)) (0.18.1)\n",
            "Requirement already satisfied: mdurl~=0.1 in /usr/local/lib/python3.10/dist-packages (from markdown-it-py>=2.2.0->rich>=10.11.0->streamlit==1.12.0->-r requirements.txt (line 9)) (0.1.2)\n",
            "Installing collected packages: tokenizers, watchdog, validators, tqdm, smmap, semver, scipy, pympler, pillow, piexif, opencv-python, ftfy, sacremoses, pydeck, huggingface_hub, gitdb, transformers, gitpython, diffusers, streamlit, streamlit_drawable_canvas\n",
            "  Attempting uninstall: tokenizers\n",
            "    Found existing installation: tokenizers 0.19.1\n",
            "    Uninstalling tokenizers-0.19.1:\n",
            "      Successfully uninstalled tokenizers-0.19.1\n",
            "  Attempting uninstall: tqdm\n",
            "    Found existing installation: tqdm 4.66.4\n",
            "    Uninstalling tqdm-4.66.4:\n",
            "      Successfully uninstalled tqdm-4.66.4\n",
            "  Attempting uninstall: scipy\n",
            "    Found existing installation: scipy 1.8.1\n",
            "    Uninstalling scipy-1.8.1:\n",
            "      Successfully uninstalled scipy-1.8.1\n",
            "  Attempting uninstall: pillow\n",
            "    Found existing installation: Pillow 9.4.0\n",
            "    Uninstalling Pillow-9.4.0:\n",
            "      Successfully uninstalled Pillow-9.4.0\n",
            "  Attempting uninstall: opencv-python\n",
            "    Found existing installation: opencv-python 4.8.0.76\n",
            "    Uninstalling opencv-python-4.8.0.76:\n",
            "      Successfully uninstalled opencv-python-4.8.0.76\n",
            "  Attempting uninstall: huggingface_hub\n",
            "    Found existing installation: huggingface-hub 0.23.1\n",
            "    Uninstalling huggingface-hub-0.23.1:\n",
            "      Successfully uninstalled huggingface-hub-0.23.1\n",
            "  Attempting uninstall: transformers\n",
            "    Found existing installation: transformers 4.41.1\n",
            "    Uninstalling transformers-4.41.1:\n",
            "      Successfully uninstalled transformers-4.41.1\n",
            "\u001b[31mERROR: pip's dependency resolver does not currently take into account all the packages that are installed. This behaviour is the source of the following dependency conflicts.\n",
            "dopamine-rl 4.0.9 requires tqdm>=4.64.1, but you have tqdm 4.64.0 which is incompatible.\n",
            "plotnine 0.12.4 requires pandas>=1.5.0, but you have pandas 1.3.5 which is incompatible.\n",
            "statsmodels 0.14.2 requires pandas!=2.1.0,>=1.4, but you have pandas 1.3.5 which is incompatible.\n",
            "torchtext 0.18.0 requires torch>=2.3.0, but you have torch 1.13.0 which is incompatible.\u001b[0m\u001b[31m\n",
            "\u001b[0mSuccessfully installed diffusers-0.2.4 ftfy-6.1.1 gitdb-4.0.11 gitpython-3.1.43 huggingface_hub-0.9.0 opencv-python-4.5.5.64 piexif-1.1.3 pillow-9.0.1 pydeck-0.9.1 pympler-1.0.1 sacremoses-0.1.1 scipy-1.9.0 semver-3.0.2 smmap-5.0.1 streamlit-1.12.0 streamlit_drawable_canvas-0.9.1 tokenizers-0.13.3 tqdm-4.64.0 transformers-4.16.2 validators-0.28.3 watchdog-2.1.9\n"
          ]
        },
        {
          "output_type": "display_data",
          "data": {
            "application/vnd.colab-display-data+json": {
              "pip_warning": {
                "packages": [
                  "PIL"
                ]
              },
              "id": "aba8c827bb4f414e88c11607f6616922"
            }
          },
          "metadata": {}
        }
      ]
    },
    {
      "cell_type": "code",
      "source": [
        "!wget https://github.com/bes-dev/stable_diffusion.openvino/blob/master/demo.py"
      ],
      "metadata": {
        "colab": {
          "base_uri": "https://localhost:8080/"
        },
        "id": "Uyru88sRU453",
        "outputId": "ba788e25-ee82-479d-ae09-6d02f941d2a4"
      },
      "execution_count": 1,
      "outputs": [
        {
          "output_type": "stream",
          "name": "stdout",
          "text": [
            "--2024-06-03 10:53:31--  https://github.com/bes-dev/stable_diffusion.openvino/blob/master/demo.py\n",
            "Resolving github.com (github.com)... 140.82.116.3\n",
            "Connecting to github.com (github.com)|140.82.116.3|:443... connected.\n",
            "HTTP request sent, awaiting response... 200 OK\n",
            "Length: unspecified [text/html]\n",
            "Saving to: ‘demo.py.1’\n",
            "\n",
            "demo.py.1               [ <=>                ] 165.16K  --.-KB/s    in 0.03s   \n",
            "\n",
            "2024-06-03 10:53:31 (5.66 MB/s) - ‘demo.py.1’ saved [169128]\n",
            "\n"
          ]
        }
      ]
    },
    {
      "cell_type": "code",
      "source": [
        "!wget https://github.com/bes-dev/stable_diffusion.openvino/blob/master/stable_diffusion_engine.py"
      ],
      "metadata": {
        "colab": {
          "base_uri": "https://localhost:8080/"
        },
        "id": "mplIad6KU4xq",
        "outputId": "f47fbc0e-6bb8-440c-f8d4-e1a2a9b79591"
      },
      "execution_count": 2,
      "outputs": [
        {
          "output_type": "stream",
          "name": "stdout",
          "text": [
            "--2024-06-03 10:53:34--  https://github.com/bes-dev/stable_diffusion.openvino/blob/master/stable_diffusion_engine.py\n",
            "Resolving github.com (github.com)... 140.82.116.3\n",
            "Connecting to github.com (github.com)|140.82.116.3|:443... connected.\n",
            "HTTP request sent, awaiting response... 200 OK\n",
            "Length: unspecified [text/html]\n",
            "Saving to: ‘stable_diffusion_engine.py’\n",
            "\n",
            "stable_diffusion_en     [ <=>                ] 185.50K  --.-KB/s    in 0.02s   \n",
            "\n",
            "2024-06-03 10:53:35 (7.97 MB/s) - ‘stable_diffusion_engine.py’ saved [189949]\n",
            "\n"
          ]
        }
      ]
    },
    {
      "cell_type": "code",
      "source": [
        "!rm stable_diffusion_engine.py"
      ],
      "metadata": {
        "id": "HQUHFksSxrwi"
      },
      "execution_count": 12,
      "outputs": []
    },
    {
      "cell_type": "code",
      "source": [
        "!wget https://github.com/bes-dev/stable_diffusion.openvino/tree/master/data"
      ],
      "metadata": {
        "colab": {
          "base_uri": "https://localhost:8080/"
        },
        "id": "ADmrXSROu7gS",
        "outputId": "c94b1a5a-c501-4447-d4f2-033700d1ae1e"
      },
      "execution_count": 3,
      "outputs": [
        {
          "output_type": "stream",
          "name": "stdout",
          "text": [
            "--2024-06-03 10:54:08--  https://github.com/bes-dev/stable_diffusion.openvino/tree/master/data\n",
            "Resolving github.com (github.com)... 140.82.116.4\n",
            "Connecting to github.com (github.com)|140.82.116.4|:443... connected.\n",
            "HTTP request sent, awaiting response... 200 OK\n",
            "Length: unspecified [text/html]\n",
            "Saving to: ‘data’\n",
            "\n",
            "data                    [ <=>                ] 237.57K  --.-KB/s    in 0.03s   \n",
            "\n",
            "2024-06-03 10:54:09 (8.33 MB/s) - ‘data’ saved [243267]\n",
            "\n"
          ]
        }
      ]
    },
    {
      "cell_type": "code",
      "source": [],
      "metadata": {
        "id": "Nu2i1VMwxzRd"
      },
      "execution_count": null,
      "outputs": []
    },
    {
      "cell_type": "code",
      "source": [],
      "metadata": {
        "colab": {
          "base_uri": "https://localhost:8080/"
        },
        "id": "wyv5qCZZvC3I",
        "outputId": "cd57b339-d6c0-4e98-dc70-8574b66a066b"
      },
      "execution_count": 7,
      "outputs": [
        {
          "output_type": "stream",
          "name": "stdout",
          "text": [
            "  File \"/content/demo.py\", line 106\n",
            "    <title>stable_diffusion.openvino/demo.py at master · bes-dev/stable_diffusion.openvino · GitHub</title>\n",
            "                                                       ^\n",
            "SyntaxError: invalid character '·' (U+00B7)\n"
          ]
        }
      ]
    },
    {
      "cell_type": "code",
      "source": [
        "from google.colab import files\n",
        "files.upload()"
      ],
      "metadata": {
        "colab": {
          "base_uri": "https://localhost:8080/",
          "height": 1000
        },
        "id": "lk1kIKKtwHTM",
        "outputId": "4aaddf67-7744-43ed-e086-ce71de079cc2"
      },
      "execution_count": 14,
      "outputs": [
        {
          "output_type": "display_data",
          "data": {
            "text/plain": [
              "<IPython.core.display.HTML object>"
            ],
            "text/html": [
              "\n",
              "     <input type=\"file\" id=\"files-32decca2-6387-4e0f-8401-2db1ed4459c9\" name=\"files[]\" multiple disabled\n",
              "        style=\"border:none\" />\n",
              "     <output id=\"result-32decca2-6387-4e0f-8401-2db1ed4459c9\">\n",
              "      Upload widget is only available when the cell has been executed in the\n",
              "      current browser session. Please rerun this cell to enable.\n",
              "      </output>\n",
              "      <script>// Copyright 2017 Google LLC\n",
              "//\n",
              "// Licensed under the Apache License, Version 2.0 (the \"License\");\n",
              "// you may not use this file except in compliance with the License.\n",
              "// You may obtain a copy of the License at\n",
              "//\n",
              "//      http://www.apache.org/licenses/LICENSE-2.0\n",
              "//\n",
              "// Unless required by applicable law or agreed to in writing, software\n",
              "// distributed under the License is distributed on an \"AS IS\" BASIS,\n",
              "// WITHOUT WARRANTIES OR CONDITIONS OF ANY KIND, either express or implied.\n",
              "// See the License for the specific language governing permissions and\n",
              "// limitations under the License.\n",
              "\n",
              "/**\n",
              " * @fileoverview Helpers for google.colab Python module.\n",
              " */\n",
              "(function(scope) {\n",
              "function span(text, styleAttributes = {}) {\n",
              "  const element = document.createElement('span');\n",
              "  element.textContent = text;\n",
              "  for (const key of Object.keys(styleAttributes)) {\n",
              "    element.style[key] = styleAttributes[key];\n",
              "  }\n",
              "  return element;\n",
              "}\n",
              "\n",
              "// Max number of bytes which will be uploaded at a time.\n",
              "const MAX_PAYLOAD_SIZE = 100 * 1024;\n",
              "\n",
              "function _uploadFiles(inputId, outputId) {\n",
              "  const steps = uploadFilesStep(inputId, outputId);\n",
              "  const outputElement = document.getElementById(outputId);\n",
              "  // Cache steps on the outputElement to make it available for the next call\n",
              "  // to uploadFilesContinue from Python.\n",
              "  outputElement.steps = steps;\n",
              "\n",
              "  return _uploadFilesContinue(outputId);\n",
              "}\n",
              "\n",
              "// This is roughly an async generator (not supported in the browser yet),\n",
              "// where there are multiple asynchronous steps and the Python side is going\n",
              "// to poll for completion of each step.\n",
              "// This uses a Promise to block the python side on completion of each step,\n",
              "// then passes the result of the previous step as the input to the next step.\n",
              "function _uploadFilesContinue(outputId) {\n",
              "  const outputElement = document.getElementById(outputId);\n",
              "  const steps = outputElement.steps;\n",
              "\n",
              "  const next = steps.next(outputElement.lastPromiseValue);\n",
              "  return Promise.resolve(next.value.promise).then((value) => {\n",
              "    // Cache the last promise value to make it available to the next\n",
              "    // step of the generator.\n",
              "    outputElement.lastPromiseValue = value;\n",
              "    return next.value.response;\n",
              "  });\n",
              "}\n",
              "\n",
              "/**\n",
              " * Generator function which is called between each async step of the upload\n",
              " * process.\n",
              " * @param {string} inputId Element ID of the input file picker element.\n",
              " * @param {string} outputId Element ID of the output display.\n",
              " * @return {!Iterable<!Object>} Iterable of next steps.\n",
              " */\n",
              "function* uploadFilesStep(inputId, outputId) {\n",
              "  const inputElement = document.getElementById(inputId);\n",
              "  inputElement.disabled = false;\n",
              "\n",
              "  const outputElement = document.getElementById(outputId);\n",
              "  outputElement.innerHTML = '';\n",
              "\n",
              "  const pickedPromise = new Promise((resolve) => {\n",
              "    inputElement.addEventListener('change', (e) => {\n",
              "      resolve(e.target.files);\n",
              "    });\n",
              "  });\n",
              "\n",
              "  const cancel = document.createElement('button');\n",
              "  inputElement.parentElement.appendChild(cancel);\n",
              "  cancel.textContent = 'Cancel upload';\n",
              "  const cancelPromise = new Promise((resolve) => {\n",
              "    cancel.onclick = () => {\n",
              "      resolve(null);\n",
              "    };\n",
              "  });\n",
              "\n",
              "  // Wait for the user to pick the files.\n",
              "  const files = yield {\n",
              "    promise: Promise.race([pickedPromise, cancelPromise]),\n",
              "    response: {\n",
              "      action: 'starting',\n",
              "    }\n",
              "  };\n",
              "\n",
              "  cancel.remove();\n",
              "\n",
              "  // Disable the input element since further picks are not allowed.\n",
              "  inputElement.disabled = true;\n",
              "\n",
              "  if (!files) {\n",
              "    return {\n",
              "      response: {\n",
              "        action: 'complete',\n",
              "      }\n",
              "    };\n",
              "  }\n",
              "\n",
              "  for (const file of files) {\n",
              "    const li = document.createElement('li');\n",
              "    li.append(span(file.name, {fontWeight: 'bold'}));\n",
              "    li.append(span(\n",
              "        `(${file.type || 'n/a'}) - ${file.size} bytes, ` +\n",
              "        `last modified: ${\n",
              "            file.lastModifiedDate ? file.lastModifiedDate.toLocaleDateString() :\n",
              "                                    'n/a'} - `));\n",
              "    const percent = span('0% done');\n",
              "    li.appendChild(percent);\n",
              "\n",
              "    outputElement.appendChild(li);\n",
              "\n",
              "    const fileDataPromise = new Promise((resolve) => {\n",
              "      const reader = new FileReader();\n",
              "      reader.onload = (e) => {\n",
              "        resolve(e.target.result);\n",
              "      };\n",
              "      reader.readAsArrayBuffer(file);\n",
              "    });\n",
              "    // Wait for the data to be ready.\n",
              "    let fileData = yield {\n",
              "      promise: fileDataPromise,\n",
              "      response: {\n",
              "        action: 'continue',\n",
              "      }\n",
              "    };\n",
              "\n",
              "    // Use a chunked sending to avoid message size limits. See b/62115660.\n",
              "    let position = 0;\n",
              "    do {\n",
              "      const length = Math.min(fileData.byteLength - position, MAX_PAYLOAD_SIZE);\n",
              "      const chunk = new Uint8Array(fileData, position, length);\n",
              "      position += length;\n",
              "\n",
              "      const base64 = btoa(String.fromCharCode.apply(null, chunk));\n",
              "      yield {\n",
              "        response: {\n",
              "          action: 'append',\n",
              "          file: file.name,\n",
              "          data: base64,\n",
              "        },\n",
              "      };\n",
              "\n",
              "      let percentDone = fileData.byteLength === 0 ?\n",
              "          100 :\n",
              "          Math.round((position / fileData.byteLength) * 100);\n",
              "      percent.textContent = `${percentDone}% done`;\n",
              "\n",
              "    } while (position < fileData.byteLength);\n",
              "  }\n",
              "\n",
              "  // All done.\n",
              "  yield {\n",
              "    response: {\n",
              "      action: 'complete',\n",
              "    }\n",
              "  };\n",
              "}\n",
              "\n",
              "scope.google = scope.google || {};\n",
              "scope.google.colab = scope.google.colab || {};\n",
              "scope.google.colab._files = {\n",
              "  _uploadFiles,\n",
              "  _uploadFilesContinue,\n",
              "};\n",
              "})(self);\n",
              "</script> "
            ]
          },
          "metadata": {}
        },
        {
          "output_type": "stream",
          "name": "stdout",
          "text": [
            "Saving stable_diffusion_engine.py to stable_diffusion_engine.py\n"
          ]
        },
        {
          "output_type": "execute_result",
          "data": {
            "text/plain": [
              "{'stable_diffusion_engine.py': b'import inspect\\nimport numpy as np\\n# openvino\\nfrom openvino.runtime import Core\\n# tokenizer\\nfrom transformers import CLIPTokenizer\\n# utils\\nfrom tqdm import tqdm\\nfrom huggingface_hub import hf_hub_download\\nfrom diffusers import LMSDiscreteScheduler, PNDMScheduler\\nimport cv2\\n\\n\\ndef result(var):\\n    return next(iter(var.values()))\\n\\n\\nclass StableDiffusionEngine:\\n    def __init__(\\n            self,\\n            scheduler,\\n            model=\"bes-dev/stable-diffusion-v1-4-openvino\",\\n            tokenizer=\"openai/clip-vit-large-patch14\",\\n            device=\"CPU\"\\n    ):\\n        self.tokenizer = CLIPTokenizer.from_pretrained(tokenizer)\\n        self.scheduler = scheduler\\n        # models\\n        self.core = Core()\\n        self.core.set_property({\\'CACHE_DIR\\': \\'./cache\\'})\\n\\n        # text features\\n        self._text_encoder = self.core.read_model(\\n            hf_hub_download(repo_id=model, filename=\"text_encoder.xml\"),\\n            hf_hub_download(repo_id=model, filename=\"text_encoder.bin\")\\n        )\\n        self.text_encoder = self.core.compile_model(self._text_encoder, device)\\n        # diffusion\\n        self._unet = self.core.read_model(\\n            hf_hub_download(repo_id=model, filename=\"unet.xml\"),\\n            hf_hub_download(repo_id=model, filename=\"unet.bin\")\\n        )\\n        self.unet = self.core.compile_model(self._unet, device)\\n        self.latent_shape = tuple(self._unet.inputs[0].shape)[1:]\\n        # decoder\\n        self._vae_decoder = self.core.read_model(\\n            hf_hub_download(repo_id=model, filename=\"vae_decoder.xml\"),\\n            hf_hub_download(repo_id=model, filename=\"vae_decoder.bin\")\\n        )\\n        self.vae_decoder = self.core.compile_model(self._vae_decoder, device)\\n        # encoder\\n        self._vae_encoder = self.core.read_model(\\n            hf_hub_download(repo_id=model, filename=\"vae_encoder.xml\"),\\n            hf_hub_download(repo_id=model, filename=\"vae_encoder.bin\")\\n        )\\n        self.vae_encoder = self.core.compile_model(self._vae_encoder, device)\\n        self.init_image_shape = tuple(self._vae_encoder.inputs[0].shape)[2:]\\n\\n    def _preprocess_mask(self, mask):\\n        h, w = mask.shape\\n        if h != self.init_image_shape[0] and w != self.init_image_shape[1]:\\n            mask = cv2.resize(\\n                mask,\\n                (self.init_image_shape[1], self.init_image_shape[0]),\\n                interpolation = cv2.INTER_NEAREST\\n            )\\n        mask = cv2.resize(\\n            mask,\\n            (self.init_image_shape[1] // 8, self.init_image_shape[0] // 8),\\n            interpolation = cv2.INTER_NEAREST\\n        )\\n        mask = mask.astype(np.float32) / 255.0\\n        mask = np.tile(mask, (4, 1, 1))\\n        mask = mask[None].transpose(0, 1, 2, 3)\\n        mask = 1 - mask\\n        return mask\\n\\n    def _preprocess_image(self, image):\\n        image = cv2.cvtColor(image, cv2.COLOR_BGR2RGB)\\n        h, w = image.shape[1:]\\n        if h != self.init_image_shape[0] and w != self.init_image_shape[1]:\\n            image = cv2.resize(\\n                image,\\n                (self.init_image_shape[1], self.init_image_shape[0]),\\n                interpolation=cv2.INTER_LANCZOS4\\n            )\\n        # normalize\\n        image = image.astype(np.float32) / 255.0\\n        image = 2.0 * image - 1.0\\n        # to batch\\n        image = image[None].transpose(0, 3, 1, 2)\\n        return image\\n\\n    def _encode_image(self, init_image):\\n        moments = result(self.vae_encoder.infer_new_request({\\n            \"init_image\": self._preprocess_image(init_image)\\n        }))\\n        mean, logvar = np.split(moments, 2, axis=1)\\n        std = np.exp(logvar * 0.5)\\n        latent = (mean + std * np.random.randn(*mean.shape)) * 0.18215\\n        return latent\\n\\n    def __call__(\\n            self,\\n            prompt,\\n            init_image = None,\\n            mask = None,\\n            strength = 0.5,\\n            num_inference_steps = 32,\\n            guidance_scale = 7.5,\\n            eta = 0.0\\n    ):\\n        # extract condition\\n        tokens = self.tokenizer(\\n            prompt,\\n            padding=\"max_length\",\\n            max_length=self.tokenizer.model_max_length,\\n            truncation=True\\n        ).input_ids\\n        text_embeddings = result(\\n            self.text_encoder.infer_new_request({\"tokens\": np.array([tokens])})\\n        )\\n\\n        # do classifier free guidance\\n        if guidance_scale > 1.0:\\n            tokens_uncond = self.tokenizer(\\n                \"\",\\n                padding=\"max_length\",\\n                max_length=self.tokenizer.model_max_length,\\n                truncation=True\\n            ).input_ids\\n            uncond_embeddings = result(\\n                self.text_encoder.infer_new_request({\"tokens\": np.array([tokens_uncond])})\\n            )\\n            text_embeddings = np.concatenate((uncond_embeddings, text_embeddings), axis=0)\\n\\n        # set timesteps\\n        accepts_offset = \"offset\" in set(inspect.signature(self.scheduler.set_timesteps).parameters.keys())\\n        extra_set_kwargs = {}\\n        offset = 0\\n        if accepts_offset:\\n            offset = 1\\n            extra_set_kwargs[\"offset\"] = 1\\n\\n        self.scheduler.set_timesteps(num_inference_steps, **extra_set_kwargs)\\n\\n        # initialize latent latent\\n        if init_image is None:\\n            latents = np.random.randn(*self.latent_shape)\\n            init_timestep = num_inference_steps\\n        else:\\n            init_latents = self._encode_image(init_image)\\n            init_timestep = int(num_inference_steps * strength) + offset\\n            init_timestep = min(init_timestep, num_inference_steps)\\n            timesteps = np.array([[self.scheduler.timesteps[-init_timestep]]]).astype(np.long)\\n            noise = np.random.randn(*self.latent_shape)\\n            latents = self.scheduler.add_noise(init_latents, noise, timesteps)[0]\\n\\n        if init_image is not None and mask is not None:\\n            mask = self._preprocess_mask(mask)\\n        else:\\n            mask = None\\n\\n        # if we use LMSDiscreteScheduler, let\\'s make sure latents are mulitplied by sigmas\\n        if isinstance(self.scheduler, LMSDiscreteScheduler):\\n            latents = latents * self.scheduler.sigmas[0]\\n\\n        # prepare extra kwargs for the scheduler step, since not all schedulers have the same signature\\n        # eta (\\xce\\xb7) is only used with the DDIMScheduler, it will be ignored for other schedulers.\\n        # eta corresponds to \\xce\\xb7 in DDIM paper: https://arxiv.org/abs/2010.02502\\n        # and should be between [0, 1]\\n        accepts_eta = \"eta\" in set(inspect.signature(self.scheduler.step).parameters.keys())\\n        extra_step_kwargs = {}\\n        if accepts_eta:\\n            extra_step_kwargs[\"eta\"] = eta\\n\\n        t_start = max(num_inference_steps - init_timestep + offset, 0)\\n        for i, t in tqdm(enumerate(self.scheduler.timesteps[t_start:])):\\n            # expand the latents if we are doing classifier free guidance\\n            latent_model_input = np.stack([latents, latents], 0) if guidance_scale > 1.0 else latents[None]\\n            if isinstance(self.scheduler, LMSDiscreteScheduler):\\n                sigma = self.scheduler.sigmas[i]\\n                latent_model_input = latent_model_input / ((sigma**2 + 1) ** 0.5)\\n\\n            # predict the noise residual\\n            noise_pred = result(self.unet.infer_new_request({\\n                \"latent_model_input\": latent_model_input,\\n                \"t\": np.float64(t),\\n                \"encoder_hidden_states\": text_embeddings\\n            }))\\n\\n            # perform guidance\\n            if guidance_scale > 1.0:\\n                noise_pred = noise_pred[0] + guidance_scale * (noise_pred[1] - noise_pred[0])\\n\\n            # compute the previous noisy sample x_t -> x_t-1\\n            if isinstance(self.scheduler, LMSDiscreteScheduler):\\n                latents = self.scheduler.step(noise_pred, i, latents, **extra_step_kwargs)[\"prev_sample\"]\\n            else:\\n                latents = self.scheduler.step(noise_pred, t, latents, **extra_step_kwargs)[\"prev_sample\"]\\n\\n            # masking for inapinting\\n            if mask is not None:\\n                init_latents_proper = self.scheduler.add_noise(init_latents, noise, t)\\n                latents = ((init_latents_proper * mask) + (latents * (1 - mask)))[0]\\n\\n        image = result(self.vae_decoder.infer_new_request({\\n            \"latents\": np.expand_dims(latents, 0)\\n        }))\\n\\n        # convert tensor to opencv\\'s image format\\n        image = (image / 2 + 0.5).clip(0, 1)\\n        image = (image[0].transpose(1, 2, 0)[:, :, ::-1] * 255).astype(np.uint8)\\n        return image\\n'}"
            ]
          },
          "metadata": {},
          "execution_count": 14
        }
      ]
    },
    {
      "cell_type": "code",
      "source": [
        "import argparse\n",
        "import os\n",
        "import json\n",
        "import random\n",
        "# engine\n",
        "from stable_diffusion_engine import StableDiffusionEngine\n",
        "# scheduler\n",
        "from diffusers import LMSDiscreteScheduler, PNDMScheduler\n",
        "# utils\n",
        "import cv2\n",
        "import numpy as np\n",
        "from openvino.runtime import Core\n",
        "\n",
        "\n",
        "def main(args):\n",
        "    if args.seed is None:\n",
        "        args.seed = random.randint(0, 2**30)\n",
        "    np.random.seed(args.seed)\n",
        "    if args.init_image is None:\n",
        "        scheduler = LMSDiscreteScheduler(\n",
        "            beta_start=args.beta_start,\n",
        "            beta_end=args.beta_end,\n",
        "            beta_schedule=args.beta_schedule,\n",
        "            tensor_format=\"np\"\n",
        "        )\n",
        "    else:\n",
        "        scheduler = PNDMScheduler(\n",
        "            beta_start=args.beta_start,\n",
        "            beta_end=args.beta_end,\n",
        "            beta_schedule=args.beta_schedule,\n",
        "            skip_prk_steps = True,\n",
        "            tensor_format=\"np\"\n",
        "        )\n",
        "    engine = StableDiffusionEngine(\n",
        "        model=args.model,\n",
        "        scheduler=scheduler,\n",
        "        tokenizer=args.tokenizer,\n",
        "        device=args.device\n",
        "    )\n",
        "    image = engine(\n",
        "        prompt=args.prompt,\n",
        "        init_image=None if args.init_image is None else cv2.imread(args.init_image),\n",
        "        mask=None if args.mask is None else cv2.imread(args.mask, 0),\n",
        "        strength=args.strength,\n",
        "        num_inference_steps=args.num_inference_steps,\n",
        "        guidance_scale=args.guidance_scale,\n",
        "        eta=args.eta\n",
        "    )\n",
        "    cv2.imwrite(args.output, image)\n",
        "\n",
        "\n",
        "if __name__ == \"__main__\":\n",
        "    parser = argparse.ArgumentParser()\n",
        "    # pipeline configure\n",
        "    parser.add_argument(\"--model\", type=str, default=\"bes-dev/stable-diffusion-v1-4-openvino\", help=\"model name\")\n",
        "    # inference device\n",
        "    parser.add_argument(\"--device\", type=str, default=\"CPU\", help=f\"inference device [{', '.join(Core().available_devices)}]\")\n",
        "    # randomizer params\n",
        "    parser.add_argument(\"--seed\", type=int, default=None, help=\"random seed for generating consistent images per prompt\")\n",
        "    # scheduler params\n",
        "    parser.add_argument(\"--beta-start\", type=float, default=0.00085, help=\"LMSDiscreteScheduler::beta_start\")\n",
        "    parser.add_argument(\"--beta-end\", type=float, default=0.012, help=\"LMSDiscreteScheduler::beta_end\")\n",
        "    parser.add_argument(\"--beta-schedule\", type=str, default=\"scaled_linear\", help=\"LMSDiscreteScheduler::beta_schedule\")\n",
        "    # diffusion params\n",
        "    parser.add_argument(\"--num-inference-steps\", type=int, default=32, help=\"num inference steps\")\n",
        "    parser.add_argument(\"--guidance-scale\", type=float, default=7.5, help=\"guidance scale\")\n",
        "    parser.add_argument(\"--eta\", type=float, default=0.0, help=\"eta\")\n",
        "    # tokenizer\n",
        "    parser.add_argument(\"--tokenizer\", type=str, default=\"openai/clip-vit-large-patch14\", help=\"tokenizer\")\n",
        "    # prompt\n",
        "    parser.add_argument(\"--prompt\", type=str, default=\"Street-art painting of Emilia Clarke in style of Banksy, photorealism\", help=\"prompt\")\n",
        "    # Parameter re-use:\n",
        "    parser.add_argument(\"--params-from\", type=str, required=False, help=\"Extract parameters from a previously generated image.\")\n",
        "    # img2img params\n",
        "    parser.add_argument(\"--init-image\", type=str, default=None, help=\"path to initial image\")\n",
        "    parser.add_argument(\"--strength\", type=float, default=0.5, help=\"how strong the initial image should be noised [0.0, 1.0]\")\n",
        "    # inpainting\n",
        "    parser.add_argument(\"--mask\", type=str, default=None, help=\"mask of the region to inpaint on the initial image\")\n",
        "    # output name\n",
        "    parser.add_argument(\"--output\", type=str, default=\"output.png\", help=\"output image name\")\n",
        "    args = parser.parse_args()\n",
        "    main(args)\n",
        "\n",
        "pass"
      ],
      "metadata": {
        "colab": {
          "base_uri": "https://localhost:8080/",
          "height": 295
        },
        "id": "A5_mG1_QxOC1",
        "outputId": "08075718-1ff5-47ea-f0f4-d80be48fed77"
      },
      "execution_count": 15,
      "outputs": [
        {
          "output_type": "stream",
          "name": "stderr",
          "text": [
            "usage: colab_kernel_launcher.py [-h] [--model MODEL] [--device DEVICE] [--seed SEED]\n",
            "                                [--beta-start BETA_START] [--beta-end BETA_END]\n",
            "                                [--beta-schedule BETA_SCHEDULE]\n",
            "                                [--num-inference-steps NUM_INFERENCE_STEPS]\n",
            "                                [--guidance-scale GUIDANCE_SCALE] [--eta ETA]\n",
            "                                [--tokenizer TOKENIZER] [--prompt PROMPT]\n",
            "                                [--params-from PARAMS_FROM] [--init-image INIT_IMAGE]\n",
            "                                [--strength STRENGTH] [--mask MASK] [--output OUTPUT]\n",
            "colab_kernel_launcher.py: error: unrecognized arguments: -f /root/.local/share/jupyter/runtime/kernel-56fd1e97-36e5-4b4b-bf38-c7489eba4c0d.json\n"
          ]
        },
        {
          "output_type": "error",
          "ename": "SystemExit",
          "evalue": "2",
          "traceback": [
            "An exception has occurred, use %tb to see the full traceback.\n",
            "\u001b[0;31mSystemExit\u001b[0m\u001b[0;31m:\u001b[0m 2\n"
          ]
        },
        {
          "output_type": "stream",
          "name": "stderr",
          "text": [
            "/usr/local/lib/python3.10/dist-packages/IPython/core/interactiveshell.py:3561: UserWarning: To exit: use 'exit', 'quit', or Ctrl-D.\n",
            "  warn(\"To exit: use 'exit', 'quit', or Ctrl-D.\", stacklevel=1)\n"
          ]
        }
      ]
    },
    {
      "cell_type": "code",
      "source": [
        "!python demo.py --prompt \"Christmas Celebration Invitation\""
      ],
      "metadata": {
        "colab": {
          "base_uri": "https://localhost:8080/"
        },
        "id": "YmWjn3FEw6oL",
        "outputId": "4cbe97f6-1a45-4750-c4e6-b4b86dbbe8d1"
      },
      "execution_count": 16,
      "outputs": [
        {
          "output_type": "stream",
          "name": "stdout",
          "text": [
            "  File \"/content/demo.py\", line 106\n",
            "    <title>stable_diffusion.openvino/demo.py at master · bes-dev/stable_diffusion.openvino · GitHub</title>\n",
            "                                                       ^\n",
            "SyntaxError: invalid character '·' (U+00B7)\n"
          ]
        }
      ]
    },
    {
      "cell_type": "code",
      "source": [],
      "metadata": {
        "id": "cKHnmKXZwoWt"
      },
      "execution_count": null,
      "outputs": []
    }
  ]
}